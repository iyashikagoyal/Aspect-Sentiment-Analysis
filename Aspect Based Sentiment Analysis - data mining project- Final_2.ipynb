{
 "cells": [
  {
   "cell_type": "code",
   "execution_count": 34,
   "metadata": {},
   "outputs": [],
   "source": [
    "## Data mining research project"
   ]
  },
  {
   "cell_type": "code",
   "execution_count": 51,
   "metadata": {},
   "outputs": [],
   "source": [
    "## depencies\n",
    "from sklearn.pipeline import Pipeline\n",
    "from gensim.models import Phrases\n",
    "from gensim.models.phrases import Phraser\n",
    "import spacy, en_core_web_sm\n",
    "\n",
    "## import dependencies for training model\n",
    "from sklearn.feature_extraction.text import TfidfVectorizer\n",
    "from sklearn.feature_extraction.text import TfidfTransformer\n",
    "from sklearn.feature_extraction.text import CountVectorizer\n",
    "from sklearn.model_selection import train_test_split\n",
    "from sklearn.metrics import classification_report\n",
    "from sklearn.linear_model import LogisticRegression\n",
    "from sklearn.naive_bayes import MultinomialNB\n",
    "from sklearn.ensemble import RandomForestClassifier\n",
    "from sklearn.model_selection import KFold\n",
    "from sklearn import linear_model\n",
    "from sklearn import metrics\n",
    "from sklearn.svm import SVC\n",
    "\n",
    "## depencies for manipulating data\n",
    "import nltk\n",
    "import pandas as pd\n",
    "from nltk.tokenize import MWETokenizer\n",
    "from nltk.corpus import stopwords\n",
    "import string\n",
    "import re"
   ]
  },
  {
   "cell_type": "code",
   "execution_count": 52,
   "metadata": {},
   "outputs": [],
   "source": [
    "## import given training data set\n",
    "## use dataset_1: laptop review for training model\n",
    "\n",
    "dataset = pd.read_csv('data-2_train.csv', na_filter=True)\n",
    "dataset.columns=['example_id', 'text', 'aspect_term', 'term_location', 'class']\n",
    "dataset['text']=dataset['text'].replace(\"\\[comma]\", \"\", regex=True)"
   ]
  },
  {
   "cell_type": "markdown",
   "metadata": {},
   "source": [
    "## data preprocessing phase\n",
    "\n",
    "In data preprocessing phase, I removed all tags, special character, twitter handler, newline character, punctuation and non-ascii characters. Note that sometimes removing punctuation and stopwords cause the accuracy get decreased. "
   ]
  },
  {
   "cell_type": "code",
   "execution_count": 53,
   "metadata": {},
   "outputs": [],
   "source": [
    "def preprocessing_txt(dataset):\n",
    "    stop_words = set(stopwords.words('english'))\n",
    "    corpus=[]\n",
    "    for elm in range(0, len(dataset.index)):\n",
    "        res=' '.join([i for i in dataset['text'][elm].lower().split() if i not in stop_words])\n",
    "        res=re.sub(\"</?.*?>\",\" <> \",dataset['text'][elm])    # remove tags\n",
    "        res=re.sub(\"(\\\\d|\\\\W)+\",\" \",dataset['text'][elm])        # remove special characte\n",
    "        res=re.sub(r'@([A-Za-z0-9_]+)', \"\",dataset['text'][elm])  # remove twitter handler\n",
    "        res=re.sub('(\\r)+', \"\", dataset['text'][elm])            # remove newline character\n",
    "        res=re.sub('[^\\x00-\\x7F]+', \"\", dataset['text'][elm])    # remove non-ascii characters\n",
    "        res=''.join(x for x in dataset['text'][elm] if x not in set(string.punctuation))   ## remove punctuation\n",
    "        corpus.append(res)\n",
    "    return corpus\n",
    "\n",
    "corpus=preprocessing_txt(dataset)"
   ]
  },
  {
   "cell_type": "markdown",
   "metadata": {},
   "source": [
    "## Build up features with TF-IDF scheme by using bigram phrase"
   ]
  },
  {
   "cell_type": "code",
   "execution_count": 54,
   "metadata": {},
   "outputs": [],
   "source": [
    "nlp=en_core_web_sm.load()\n",
    "\n",
    "def bigphrase_tfidf_feats(corpus):\n",
    "    lemmetized_sent=[]\n",
    "    for each_sent in nlp.pipe(corpus, batch_size=50, n_threads=-1):\n",
    "        if each_sent.is_parsed:\n",
    "            res=[tok.lemma_ for tok in each_sent if not tok.is_punct or tok.is_space or tok.is_stop or tok.like_num]\n",
    "            lemmetized_sent.append(res)\n",
    "        else:\n",
    "            lemmetized_sent.append(None)\n",
    "    bigram=Phraser(Phrases(lemmetized_sent))\n",
    "    bigram_lem=list(bigram[lemmetized_sent])\n",
    "    parsed=[]\n",
    "    for k in range(0, len(bigram_lem)):\n",
    "        joined=' '.join(bigram_lem[k])\n",
    "        parsed.append(joined)\n",
    "    return parsed"
   ]
  },
  {
   "cell_type": "code",
   "execution_count": 55,
   "metadata": {},
   "outputs": [
    {
     "name": "stdout",
     "output_type": "stream",
     "text": [
      "accuracy metrics for training naive bayes classifier:\n",
      "              precision    recall  f1-score   support\n",
      "\n",
      "          1       0.77      0.25      0.38       161\n",
      "          0       0.76      0.10      0.18       127\n",
      "         -1       0.66      0.99      0.79       433\n",
      "\n",
      "avg / total       0.70      0.67      0.59       721\n",
      "\n",
      "accuracy metrics for logistic regression classifier:\n",
      "              precision    recall  f1-score   support\n",
      "\n",
      "          1       0.72      0.40      0.51       161\n",
      "          0       0.75      0.30      0.43       127\n",
      "         -1       0.72      0.97      0.83       433\n",
      "\n",
      "avg / total       0.73      0.73      0.69       721\n",
      "\n",
      "accuracy metrics for SGD classifier:\n",
      "              precision    recall  f1-score   support\n",
      "\n",
      "          1       0.68      0.61      0.65       161\n",
      "          0       0.58      0.51      0.54       127\n",
      "         -1       0.82      0.88      0.85       433\n",
      "\n",
      "avg / total       0.75      0.76      0.75       721\n",
      "\n"
     ]
    }
   ],
   "source": [
    "## bigram phrase\n",
    "bigram=bigphrase_tfidf_feats(corpus)\n",
    "\n",
    "# Split test and train data using bigram phrase\n",
    "targetClass=dataset['class'].values\n",
    "x_train, x_test, y_train, y_test = train_test_split(bigram, targetClass, test_size = 0.2, stratify = targetClass)\n",
    "text_pipe_nb = Pipeline([('tfidf', TfidfVectorizer()), ('nb', MultinomialNB())])\n",
    "text_pipe_nb.fit(x_train,y_train)\n",
    "predicted = text_pipe_nb.predict(x_test)\n",
    "print(\"accuracy metrics for training naive bayes classifier:\\n\",metrics.classification_report(y_test, predicted, target_names = ['1','0','-1']))\n",
    "\n",
    "## use bigram phrase to train logistic regression\n",
    "LR = LogisticRegression()\n",
    "text_pipe_LR = Pipeline([('tfidf', TfidfVectorizer()), ('LR', LR)])\n",
    "text_pipe_LR.fit(x_train,y_train)\n",
    "predicted = text_pipe_LR.predict(x_test)\n",
    "print(\"accuracy metrics for logistic regression classifier:\\n\",metrics.classification_report(y_test, predicted, target_names = ['1','0','-1']))\n",
    "\n",
    "##\n",
    "sgd_clf = linear_model.SGDClassifier(max_iter=1000)\n",
    "text_pipe_sgd = Pipeline([('tfidf', TfidfVectorizer()), ('sgd', sgd_clf)])\n",
    "text_pipe_sgd.fit(x_train,y_train)\n",
    "predicted = text_pipe_sgd.predict(x_test)\n",
    "print(\"accuracy metrics for SGD classifier:\\n\",metrics.classification_report(y_test, predicted, target_names = ['1','0','-1']))"
   ]
  },
  {
   "cell_type": "code",
   "execution_count": 56,
   "metadata": {},
   "outputs": [],
   "source": [
    "## test data part\n",
    "Data_1_test = pd.read_csv('Data-2_test.csv', na_filter=True)\n",
    "Data_1_test.columns=['example_id', 'text', 'aspect_term', 'term_location']\n",
    "Data_1_test['text']=Data_1_test['text'].replace(\"\\[comma]\", \"\", regex=True)\n",
    "\n",
    "## \n",
    "Data_1_test_corpus=preprocessing_txt(Data_1_test)"
   ]
  },
  {
   "cell_type": "code",
   "execution_count": 57,
   "metadata": {},
   "outputs": [],
   "source": [
    "## build up features from test data\n",
    "test_bigram=bigphrase_tfidf_feats(Data_1_test_corpus)\n"
   ]
  },
  {
   "cell_type": "code",
   "execution_count": 58,
   "metadata": {},
   "outputs": [],
   "source": [
    "## use trained naive-bayes classifier on new test data\n",
    "test_predicted_nb=text_pipe_nb.predict(test_bigram)\n",
    "with open('Data_1_test_nb.txt', 'w') as file:\n",
    "        for index,i in enumerate(test_predicted_nb):\n",
    "            file.write(str(Data_1_test['example_id'][index]) + ';;' + str(i) + '\\n')\n",
    "        file.close()\n",
    "        \n",
    "##\n",
    "test_predicted_LR=text_pipe_LR.predict(test_bigram)\n",
    "with open('Data_1_test_LR.txt', 'w') as file:\n",
    "        for index,i in enumerate(test_predicted_LR):\n",
    "            file.write(str(Data_1_test['example_id'][index]) + ';;' + str(i) + '\\n')\n",
    "        file.close()\n",
    "        \n",
    "##\n",
    "test_predicted_sgd=text_pipe_sgd.predict(test_bigram)\n",
    "with open('Data_1_test_sgd.txt', 'w') as file:\n",
    "        for index,i in enumerate(test_predicted_sgd):\n",
    "            file.write(str(Data_1_test['example_id'][index]) + ';;' + str(i) + '\\n')\n",
    "        file.close()"
   ]
  },
  {
   "cell_type": "code",
   "execution_count": null,
   "metadata": {},
   "outputs": [],
   "source": []
  },
  {
   "cell_type": "code",
   "execution_count": null,
   "metadata": {},
   "outputs": [],
   "source": []
  }
 ],
 "metadata": {
  "kernelspec": {
   "display_name": "Python 3",
   "language": "python",
   "name": "python3"
  },
  "language_info": {
   "codemirror_mode": {
    "name": "ipython",
    "version": 3
   },
   "file_extension": ".py",
   "mimetype": "text/x-python",
   "name": "python",
   "nbconvert_exporter": "python",
   "pygments_lexer": "ipython3",
   "version": "3.6.4"
  }
 },
 "nbformat": 4,
 "nbformat_minor": 2
}
